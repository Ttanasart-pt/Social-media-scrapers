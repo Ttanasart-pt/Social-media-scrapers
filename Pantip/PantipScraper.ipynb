{
  "cells": [
    {
      "cell_type": "code",
      "execution_count": 1,
      "metadata": {
        "id": "TnRvfnsyk61U"
      },
      "outputs": [],
      "source": [
        "import html\n",
        "import http.client\n",
        "import requests\n",
        "\n",
        "import time\n",
        "import json\n",
        "import re\n",
        "from functools import reduce\n",
        "import os\n",
        "import pathlib\n",
        "from argparse import ArgumentParser\n",
        "\n",
        "import numpy as np\n",
        "import pandas as pd\n",
        "\n",
        "from bs4 import BeautifulSoup"
      ]
    },
    {
      "cell_type": "code",
      "execution_count": 9,
      "metadata": {
        "id": "Y1nGZNxYrGSn"
      },
      "outputs": [],
      "source": [
        "def findAndExtract(soupElement, tag = 'div', **kwargs):\n",
        "  element = soupElement.find(tag, **kwargs)\n",
        "  return element.contents[0].strip()\n",
        "\n",
        "def requestTitle(ID, verbose = True):\n",
        "  URL = f\"https://pantip.com/topic/{ID}\"\n",
        "  page = requests.get(URL)\n",
        "  \n",
        "  pageSoup = BeautifulSoup(page.content, 'html.parser')\n",
        "\n",
        "  titleSoup = pageSoup.find(class_='main-post-inner')\n",
        "\n",
        "  posterName = findAndExtract(titleSoup, 'a', class_='display-post-name owner')\n",
        "  title = findAndExtract(titleSoup, 'h2', class_='display-post-title')\n",
        "  content = findAndExtract(titleSoup, 'div', class_='display-post-story')\n",
        "  if(verbose):\n",
        "    print(f'  ├─ Post title : {title}')\n",
        "  \n",
        "  return (content, posterName)"
      ]
    },
    {
      "cell_type": "code",
      "execution_count": 10,
      "metadata": {
        "id": "cglQxvT17hg1"
      },
      "outputs": [],
      "source": [
        "def cleanHTML(string):\n",
        "  return html.unescape(string.strip()).replace('<br />', '')\n",
        "\n",
        "def getComment(ID, page = 1):\n",
        "  conn = http.client.HTTPSConnection(\"pantip.com\")\n",
        "  payload = \"\"\n",
        "\n",
        "  headers = {\n",
        "      'X-Requested-With': \"XMLHttpRequest\",\n",
        "      'Referer': f\"https://pantip.com/topic/{ID}\"\n",
        "      }\n",
        "\n",
        "  conn.request(\"GET\", f\"/forum/topic/render_comments?tid={ID}&page={page}&param=page{page}&parent={page}\", payload, headers)\n",
        "\n",
        "  res = conn.getresponse()\n",
        "  data = res.read()\n",
        "  response = json.loads(data)\n",
        "  return response\n",
        "\n",
        "def requestComments(ID, verbose = True):\n",
        "  response = getComment(ID)\n",
        "\n",
        "  amount = response['count']\n",
        "  pages = response['paging']['ed']['max']\n",
        "  commentList = []\n",
        "  for comment in response['comments']:\n",
        "    commentList.append((cleanHTML(comment['message']), cleanHTML(comment['user']['name'])))\n",
        "  \n",
        "  for i in range(1, pages):\n",
        "    response = getComment(ID, i + 1)\n",
        "    for comment in response['comments']:\n",
        "      commentList.append((cleanHTML(comment['message']), cleanHTML(comment['user']['name'])))\n",
        "\n",
        "  if(verbose):\n",
        "    print(f'  ├─ {amount} comments')\n",
        "    \n",
        "  return commentList"
      ]
    },
    {
      "cell_type": "code",
      "execution_count": 11,
      "metadata": {
        "id": "CzQN6au9GrUn"
      },
      "outputs": [],
      "source": [
        "def queryPostAsDataframe(url, verbose = True):\n",
        "  postID = re.findall('[0-9]+', url)[-1]\n",
        "  title = requestTitle(postID, verbose)\n",
        "  comments = requestComments(postID, verbose)\n",
        "\n",
        "  comments.insert(0, title)\n",
        "  fr = np.array(comments)\n",
        "  df = pd.DataFrame(fr, columns=['Message', 'Poster'])\n",
        "\n",
        "  return df"
      ]
    },
    {
      "cell_type": "code",
      "execution_count": 12,
      "metadata": {
        "id": "Ow6k9dsxMwh_"
      },
      "outputs": [],
      "source": [
        "def scrapFile(path, verbose = True, toCSV = False, outputDir = \"./results\"):\n",
        "  if(pathlib.Path(path).suffix == '.csv'):\n",
        "    src = pd.read_csv(path, header=None)\n",
        "  else:\n",
        "    src = pd.read_excel(path, header=None)\n",
        "  \n",
        "  totalLinks = len(src)\n",
        "  dfs = []\n",
        "  for i in src.index:\n",
        "    url = src[0][i]\n",
        "    if(verbose):\n",
        "      print(f'Scanning ({i+1}/{totalLinks}) {url}...')\n",
        "    timeStart = time.time()\n",
        "\n",
        "    df = queryPostAsDataframe(url, verbose)\n",
        "    if(toCSV):\n",
        "      fname = f'{outputDir}/{i}.csv'\n",
        "      if(not os.path.exists(outputDir)):\n",
        "        os.makedirs(outputDir)\n",
        "      \n",
        "      df.to_csv(fname, index=False)\n",
        "      if(verbose):\n",
        "        elapsed = time.time() - timeStart\n",
        "        print(f'  ╘══ ✓ Scrap complete in {elapsed:.2f}s, csv saved at {fname}')\n",
        "    dfs.append(df)\n",
        "  \n",
        "  print(f'Scrap {totalLinks} links completed')\n",
        "  return dfs"
      ]
    },
    {
      "cell_type": "code",
      "execution_count": 13,
      "metadata": {
        "colab": {
          "base_uri": "https://localhost:8080/"
        },
        "id": "RFLXXrHJM4t-",
        "outputId": "3db530f0-3065-4095-be01-c53b3128fc3d"
      },
      "outputs": [
        {
          "name": "stdout",
          "output_type": "stream",
          "text": [
            "Scanning (1/5) https://pantip.com/topic/41506843...\n",
            "  ├─ Post title : พนักงานที่ใจเย็น   คุมสติได้  หาทางแก้ปัญหาให้ลูกค้าที่ใจร้อนได้อย่างนุ่มนวล  เขาทำได้โดยธรรมชาติหรือต้องฝืนครับ\n",
            "  ├─ 36 comments\n",
            "  ╘══ ✓ Scrap complete in 3.78s, csv saved at ./results/0.csv\n",
            "Scanning (2/5) https://pantip.com/topic/41497035...\n",
            "  ├─ Post title : เรียนจบมายังไม่ถึงปีแต่ที่บ้านก็เร่งให้หางานทำ\n",
            "  ├─ 149 comments\n",
            "  ╘══ ✓ Scrap complete in 4.41s, csv saved at ./results/1.csv\n",
            "Scanning (3/5) https://pantip.com/topic/41505149...\n",
            "  ├─ Post title : ฉันไปเรียนขับรถยนต์มา แต่มันทำให้ฉันรู้สึกแย่\n",
            "  ├─ 88 comments\n",
            "  ╘══ ✓ Scrap complete in 1.75s, csv saved at ./results/2.csv\n",
            "Scanning (4/5) https://pantip.com/topic/41505076...\n",
            "  ├─ Post title : เเม่ไม่ยอมปล่อยลูกตามมาอยู่หอด้วย​ งงมาก\n",
            "  ├─ 101 comments\n",
            "  ╘══ ✓ Scrap complete in 0.64s, csv saved at ./results/3.csv\n",
            "Scanning (5/5) https://pantip.com/topic/41507095...\n",
            "  ├─ Post title : คบกับแฟนมา 3 เดือน พึ่งรู้ว่าแฟนเป็นโรคซึมเศร้า ควรจะไปต่อหรือพอแค่นี้\n",
            "  ├─ 128 comments\n",
            "  ╘══ ✓ Scrap complete in 0.68s, csv saved at ./results/4.csv\n",
            "Scrap 5 links completed\n"
          ]
        }
      ],
      "source": [
        "dfs = scrapFile('./pantip urls.xlsx', toCSV=True)"
      ]
    },
    {
      "cell_type": "code",
      "execution_count": 14,
      "metadata": {},
      "outputs": [
        {
          "name": "stderr",
          "output_type": "stream",
          "text": [
            "usage: ipykernel_launcher.py [-h] [-i I] [-o O] [--verbose]\n",
            "ipykernel_launcher.py: error: unrecognized arguments: --ip=127.0.0.1 --stdin=9003 --control=9001 --hb=9000 --Session.signature_scheme=\"hmac-sha256\" --Session.key=b\"8da83690-f327-4e88-a17c-cfe061d1563b\" --shell=9002 --transport=\"tcp\" --iopub=9004 --f=c:\\Users\\tanas\\AppData\\Roaming\\jupyter\\runtime\\kernel-v2-17152Ne0n7h5f07Ov.json\n"
          ]
        },
        {
          "ename": "SystemExit",
          "evalue": "2",
          "output_type": "error",
          "traceback": [
            "An exception has occurred, use %tb to see the full traceback.\n",
            "\u001b[1;31mSystemExit\u001b[0m\u001b[1;31m:\u001b[0m 2\n"
          ]
        },
        {
          "name": "stderr",
          "output_type": "stream",
          "text": [
            "C:\\Users\\tanas\\AppData\\Roaming\\Python\\Python39\\site-packages\\IPython\\core\\interactiveshell.py:3369: UserWarning: To exit: use 'exit', 'quit', or Ctrl-D.\n",
            "  warn(\"To exit: use 'exit', 'quit', or Ctrl-D.\", stacklevel=1)\n"
          ]
        }
      ],
      "source": [
        "# CLI usage\n",
        "if(__name__ == '__main__'):\n",
        "    parser = ArgumentParser()\n",
        "    parser.add_argument('-i', help='Path to xlsx or csv file')\n",
        "    parser.add_argument('-o', help='Output directory')\n",
        "    parser.add_argument('--verbose', help='Print progress',\n",
        "                        action=\"store_true\")\n",
        "    \n",
        "    args = parser.parse_args()\n",
        "    if args.i == None:\n",
        "        print('Please enter input file')\n",
        "        exit()\n",
        "    ipath = args.i\n",
        "    opath = './results' if args.o == None else args.o\n",
        "    verbose = args.verbost != None\n",
        "    scrapFile(ipath, verbose = verbose, to_csv = True, output_folder = opath)"
      ]
    }
  ],
  "metadata": {
    "colab": {
      "collapsed_sections": [],
      "name": "PantipScraper.ipynb",
      "provenance": [],
      "toc_visible": true
    },
    "kernelspec": {
      "display_name": "Python 3.9.6 64-bit",
      "language": "python",
      "name": "python3"
    },
    "language_info": {
      "codemirror_mode": {
        "name": "ipython",
        "version": 3
      },
      "file_extension": ".py",
      "mimetype": "text/x-python",
      "name": "python",
      "nbconvert_exporter": "python",
      "pygments_lexer": "ipython3",
      "version": "3.9.6"
    },
    "vscode": {
      "interpreter": {
        "hash": "81794d4967e6c3204c66dcd87b604927b115b27c00565d3d43f05ba2f3a2cb0d"
      }
    }
  },
  "nbformat": 4,
  "nbformat_minor": 0
}
